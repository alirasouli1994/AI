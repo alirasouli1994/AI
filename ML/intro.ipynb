{
 "cells": [
  {
   "cell_type": "markdown",
   "id": "3f94a021",
   "metadata": {},
   "source": [
    "سلام "
   ]
  },
  {
   "cell_type": "code",
   "execution_count": null,
   "id": "26b987cf",
   "metadata": {
    "vscode": {
     "languageId": "plaintext"
    }
   },
   "outputs": [],
   "source": [
    "print(\"hello\")"
   ]
  }
 ],
 "metadata": {
  "language_info": {
   "name": "python"
  }
 },
 "nbformat": 4,
 "nbformat_minor": 5
}
